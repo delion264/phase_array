{
 "cells": [
  {
   "cell_type": "markdown",
   "id": "02720c40-e237-4616-998f-5175ebe31ccc",
   "metadata": {},
   "source": [
    "Consider a linear array of $n$ antenna elements with uniform spacing $d$. There is a signal source located at an angle $\\theta$ from the normal of the array plane at some arbitrary distance emitting a wave described by $E(t)$.\n",
    "\n",
    "Let $p_i$ be the $i^{th}$ array element and $\\theta_{i}$ be the angle of incidence of the signal at $p_i$.\n",
    "\n",
    "Path length difference between any two adjacent array elements is given by\n",
    "$$d\\sin\\theta$$"
   ]
  },
  {
   "cell_type": "code",
   "execution_count": null,
   "id": "f61d609c-e80f-40d4-bf10-af5891e0c640",
   "metadata": {},
   "outputs": [],
   "source": []
  }
 ],
 "metadata": {
  "kernelspec": {
   "display_name": "SageMath 9.5",
   "language": "sage",
   "name": "sagemath"
  },
  "language_info": {
   "codemirror_mode": {
    "name": "ipython",
    "version": 3
   },
   "file_extension": ".py",
   "mimetype": "text/x-python",
   "name": "python",
   "nbconvert_exporter": "python",
   "pygments_lexer": "ipython3",
   "version": "3.10.4"
  }
 },
 "nbformat": 4,
 "nbformat_minor": 5
}
